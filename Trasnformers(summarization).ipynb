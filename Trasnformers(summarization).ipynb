{
  "nbformat": 4,
  "nbformat_minor": 0,
  "metadata": {
    "colab": {
      "provenance": [],
      "authorship_tag": "ABX9TyOFpB8H6bZR8FNmYvA0RIFU",
      "include_colab_link": true
    },
    "kernelspec": {
      "name": "python3",
      "display_name": "Python 3"
    },
    "language_info": {
      "name": "python"
    }
  },
  "cells": [
    {
      "cell_type": "markdown",
      "metadata": {
        "id": "view-in-github",
        "colab_type": "text"
      },
      "source": [
        "<a href=\"https://colab.research.google.com/github/Luscaswolf/Trasnformers-summarization-/blob/main/Trasnformers(summarization).ipynb\" target=\"_parent\"><img src=\"https://colab.research.google.com/assets/colab-badge.svg\" alt=\"Open In Colab\"/></a>"
      ]
    },
    {
      "cell_type": "code",
      "execution_count": 1,
      "metadata": {
        "colab": {
          "base_uri": "https://localhost:8080/"
        },
        "id": "gwHRkrQnGyoR",
        "outputId": "428f7556-557a-4b66-b115-17335b4b809c"
      },
      "outputs": [
        {
          "output_type": "stream",
          "name": "stdout",
          "text": [
            "Requirement already satisfied: transformers in /usr/local/lib/python3.10/dist-packages (4.42.4)\n",
            "Requirement already satisfied: filelock in /usr/local/lib/python3.10/dist-packages (from transformers) (3.15.4)\n",
            "Requirement already satisfied: huggingface-hub<1.0,>=0.23.2 in /usr/local/lib/python3.10/dist-packages (from transformers) (0.23.5)\n",
            "Requirement already satisfied: numpy<2.0,>=1.17 in /usr/local/lib/python3.10/dist-packages (from transformers) (1.26.4)\n",
            "Requirement already satisfied: packaging>=20.0 in /usr/local/lib/python3.10/dist-packages (from transformers) (24.1)\n",
            "Requirement already satisfied: pyyaml>=5.1 in /usr/local/lib/python3.10/dist-packages (from transformers) (6.0.1)\n",
            "Requirement already satisfied: regex!=2019.12.17 in /usr/local/lib/python3.10/dist-packages (from transformers) (2024.5.15)\n",
            "Requirement already satisfied: requests in /usr/local/lib/python3.10/dist-packages (from transformers) (2.31.0)\n",
            "Requirement already satisfied: safetensors>=0.4.1 in /usr/local/lib/python3.10/dist-packages (from transformers) (0.4.3)\n",
            "Requirement already satisfied: tokenizers<0.20,>=0.19 in /usr/local/lib/python3.10/dist-packages (from transformers) (0.19.1)\n",
            "Requirement already satisfied: tqdm>=4.27 in /usr/local/lib/python3.10/dist-packages (from transformers) (4.66.4)\n",
            "Requirement already satisfied: fsspec>=2023.5.0 in /usr/local/lib/python3.10/dist-packages (from huggingface-hub<1.0,>=0.23.2->transformers) (2024.6.1)\n",
            "Requirement already satisfied: typing-extensions>=3.7.4.3 in /usr/local/lib/python3.10/dist-packages (from huggingface-hub<1.0,>=0.23.2->transformers) (4.12.2)\n",
            "Requirement already satisfied: charset-normalizer<4,>=2 in /usr/local/lib/python3.10/dist-packages (from requests->transformers) (3.3.2)\n",
            "Requirement already satisfied: idna<4,>=2.5 in /usr/local/lib/python3.10/dist-packages (from requests->transformers) (3.7)\n",
            "Requirement already satisfied: urllib3<3,>=1.21.1 in /usr/local/lib/python3.10/dist-packages (from requests->transformers) (2.0.7)\n",
            "Requirement already satisfied: certifi>=2017.4.17 in /usr/local/lib/python3.10/dist-packages (from requests->transformers) (2024.7.4)\n"
          ]
        }
      ],
      "source": [
        "!pip install transformers"
      ]
    },
    {
      "cell_type": "code",
      "source": [
        "import transformers\n",
        "from transformers import pipeline"
      ],
      "metadata": {
        "id": "DbBFB9jRGy71"
      },
      "execution_count": 2,
      "outputs": []
    },
    {
      "cell_type": "code",
      "source": [
        "resumidor = pipeline(\"summarization\")"
      ],
      "metadata": {
        "colab": {
          "base_uri": "https://localhost:8080/"
        },
        "id": "8AbIL7N8Gz3Y",
        "outputId": "1b3c4976-0513-43d5-a595-31feba1293e8"
      },
      "execution_count": 5,
      "outputs": [
        {
          "output_type": "stream",
          "name": "stderr",
          "text": [
            "No model was supplied, defaulted to sshleifer/distilbart-cnn-12-6 and revision a4f8f3e (https://huggingface.co/sshleifer/distilbart-cnn-12-6).\n",
            "Using a pipeline without specifying a model name and revision in production is not recommended.\n"
          ]
        }
      ]
    },
    {
      "cell_type": "code",
      "source": [
        "texto = \"\"\"Marco Túlio Cícero (em latim: Marcus Tullius Cicero, em grego clássico: Κικέρων; romaniz.: Kikerōn; 106 – 43 a.C.) foi um advogado, político, escritor, orador e filósofo da gens Túlia da República Romana eleito cônsul em 63 a.C. com Caio Antônio Híbrida. Era filho de Cícero, o Velho, com Élvia e pai de Cícero, o Jovem, cônsul em 30 a.C., e de Túlia. Cícero nasceu numa rica família municipal de Roma de ordem equestre e foi um dos maiores oradores e escritores em prosa da Roma Antiga.[1][2]\n",
        "Sua influência na língua latina foi tão imensa que se acredita que toda a história subsequente da prosa, não apenas no Latim, como nas línguas europeias, no século XIX seja ou uma reação a seu estilo ou uma tentativa de retornar a ele.[3] Segundo Michael Grant, \"a influência de Cícero sobre a história da literatura e das ideias europeias em muito excede a de qualquer outro escritor em prosa de qualquer língua\".[4] Cícero introduziu os romanos às principais escolas da filosofia grega e criou um vocabulário filosófico latino (inclusive com neologismos como evidentia,[5] humanitas, qualitas, quantitas e essentia),[6] destacando-se como tradutor e filósofo.\n",
        "A redescoberta das cartas de Cícero por Petrarca é geralmente considerada como um dos eventos iniciais do Renascimento, no século XIV, nos assuntos públicos, humanismo e na cultura romana clássica.[7] Segundo o historiador polonês Tadeusz Zieliński, \"o Renascimento era, acima de tudo, um reavivamento de Cícero e, apenas depois dele e através dele, do resto da antiguidade clássica\".[8] O pico da autoridade e prestígio de Cícero se deu durante o Iluminismo no século XVIII[9] e seu impacto sobre os principais pensadores iluministas, como John Locke, David Hume e Montesquieu, foi substancial.[10] Suas obras estão entre as mais influentes da cultura europeia e ainda hoje constituem um dos mais importantes corpus de material primário para obras e revisões sobre a história da Roma Antiga, especialmente sobre os últimos dias da República Romana.[11]\n",
        "\"\"\""
      ],
      "metadata": {
        "id": "U45-XRDbG9YQ"
      },
      "execution_count": 18,
      "outputs": []
    },
    {
      "cell_type": "code",
      "source": [
        "resumo = resumidor(texto, max_length=100, min_length=50)\n",
        "print(resumo)"
      ],
      "metadata": {
        "colab": {
          "base_uri": "https://localhost:8080/"
        },
        "id": "X8XDAkh6IGtL",
        "outputId": "8eede536-7603-4fee-ff8f-77ca5c4d82ab"
      },
      "execution_count": 19,
      "outputs": [
        {
          "output_type": "stream",
          "name": "stdout",
          "text": [
            "[{'summary_text': ' Marco Túlio Cícero (em latim: Marcus Tullius Cicero, em grego clássico: Κέρων; romaniz.: Kikerōn; 106 – 43 a.C.) foi um dos maiores oradores e escritores em prosa da Roma Antiga . Influenced so much as John Locke, David Hume, Montesquieu, John Locke and others . Cí'}]\n"
          ]
        }
      ]
    },
    {
      "cell_type": "code",
      "source": [],
      "metadata": {
        "id": "tc-_lKoCITZW"
      },
      "execution_count": null,
      "outputs": []
    }
  ]
}